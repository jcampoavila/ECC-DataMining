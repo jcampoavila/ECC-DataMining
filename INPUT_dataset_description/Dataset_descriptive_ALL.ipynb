{
 "cells": [
  {
   "cell_type": "markdown",
   "metadata": {
    "tags": []
   },
   "source": [
    "# SCRIPT TO DESCRIBE DATASET\n",
    "- DESCRIBE RELEVANT ATTRIBUTES FROM DATASET"
   ]
  },
  {
   "cell_type": "code",
   "execution_count": null,
   "metadata": {},
   "outputs": [],
   "source": [
    "#!/usr/bin/env python\n",
    "# coding: utf-8\n",
    "\n",
    "from IPython.display import display, HTML\n",
    "display(HTML(\"<style>.container { width:100% !important; }</style>\"))"
   ]
  },
  {
   "cell_type": "code",
   "execution_count": null,
   "metadata": {},
   "outputs": [],
   "source": [
    "# Python version and rest of packages needed\n",
    "\n",
    "import sys\n",
    "import collections\n",
    "import matplotlib as mat\n",
    "print('matplotlib: {}'.format(mat.__version__))\n",
    "import pandas as pd\n",
    "print('pandas: {}'.format(pd.__version__))"
   ]
  },
  {
   "cell_type": "code",
   "execution_count": null,
   "metadata": {},
   "outputs": [],
   "source": [
    "# Import functions from packages\n",
    "\n",
    "from collections import Counter\n",
    "from matplotlib import pyplot as plt"
   ]
  },
  {
   "cell_type": "code",
   "execution_count": null,
   "metadata": {},
   "outputs": [],
   "source": [
    "# load dataset and visualize dataset\n",
    "\n",
    "df = pd.read_csv('../INPUT_dataset/BDsocioeconomic_dummy.csv',delimiter=',',low_memory=False)\n",
    "df"
   ]
  },
  {
   "cell_type": "code",
   "execution_count": null,
   "metadata": {},
   "outputs": [],
   "source": [
    "# enumerate columns\n",
    "\n",
    "df.columns"
   ]
  },
  {
   "cell_type": "code",
   "execution_count": null,
   "metadata": {
    "tags": []
   },
   "outputs": [],
   "source": [
    "# some statistics\n",
    "n = df.shape[0]\n",
    "print('Total number of instances: {:d}'.format(n))\n",
    "print('Total number of attributes: {:d}'.format(df.shape[1]))\n",
    "print('Basic descriptive:')\n",
    "df.describe()"
   ]
  },
  {
   "cell_type": "code",
   "execution_count": null,
   "metadata": {},
   "outputs": [],
   "source": [
    "print('==== Attending to \\'Class_suicidal_behaviour\\' attribute:')\n",
    "counter_Class_suicidal_behaviour = Counter(df['Class_suicidal_behaviour'])\n",
    "print(counter_Class_suicidal_behaviour)\n",
    "print('Percentage Non_suicidal: {:.2f}% ({:d} out of {:d})'.format(100*counter_Class_suicidal_behaviour[0] / n,\n",
    "                                                                       counter_Class_suicidal_behaviour[0],\n",
    "                                                                       n))\n",
    "print('Percentage Suicidal: {:.2f}% ({:d} out of {:d})'.format(100*counter_Class_suicidal_behaviour[1] / n,\n",
    "                                                               counter_Class_suicidal_behaviour[1],\n",
    "                                                               n))\n",
    "print('Percentage other: {:.2f}% ({:d} out of {:d})'.format(100*(n - counter_Class_suicidal_behaviour[0] - counter_Class_suicidal_behaviour[1]) / n,\n",
    "                                                           n - counter_Class_suicidal_behaviour[0] - counter_Class_suicidal_behaviour[1],\n",
    "                                                           n))\n",
    "\n",
    "w = collections.Counter(df['Class_suicidal_behaviour'])\n",
    "plt.bar(w.keys(), w.values())"
   ]
  },
  {
   "cell_type": "code",
   "execution_count": null,
   "metadata": {},
   "outputs": [],
   "source": [
    "print('==== Attending to \\'Sex_M0_F1\\' attribute:')\n",
    "counter_Sex_M0_F1 = Counter(df['Sex_M0_F1'])\n",
    "print(counter_Sex_M0_F1)\n",
    "print('Percentage female: {:.2f}% ({:d} out of {:d})'.format(100*counter_Sex_M0_F1[1] / n,\n",
    "                                                            counter_Sex_M0_F1[1] ,\n",
    "                                                            n))\n",
    "print('Percentage male: {:.2f}% ({:d} out of {:d})'.format(100*counter_Sex_M0_F1[0] / n,\n",
    "                                                          counter_Sex_M0_F1[0],\n",
    "                                                          n))\n",
    "print('Percentage other: {:.2f}% ({:d} out of {:d})'.format(100*(n - counter_Sex_M0_F1[0] - counter_Sex_M0_F1[1]) / n,\n",
    "                                                           n - counter_Sex_M0_F1[0] - counter_Sex_M0_F1[1],\n",
    "                                                           n))\n",
    "\n",
    "w = collections.Counter(df['Sex_M0_F1'])\n",
    "plt.bar(w.keys(), w.values())"
   ]
  },
  {
   "cell_type": "code",
   "execution_count": null,
   "metadata": {},
   "outputs": [],
   "source": [
    "print('==== Attending to \\'Age\\' attribute:')\n",
    "# counter_Age = Counter(df['Age'])\n",
    "# print(counter_Age)\n",
    "\n",
    "w = collections.Counter(df['Age'])\n",
    "plt.bar(w.keys(), w.values())\n",
    "plt.show()\n",
    "\n",
    "range_0_15 = len(df.query('Age <= 15')['Age'])\n",
    "range_16_30 = len(df.query('Age >= 16 and Age <=30')['Age'])\n",
    "range_31_45 = len(df.query('Age >= 31 and Age <=45')['Age'])\n",
    "range_46_60 = len(df.query('Age >= 46 and Age <=60')['Age'])\n",
    "range_61_75 = len(df.query('Age >= 61 and Age <=75')['Age'])\n",
    "range_over_76 = len(df.query('Age >=76')['Age'])\n",
    "\n",
    "print('Percentage range_0_15: {:.2f}% ({:d} out of {:d})'.format(100*range_0_15 / n,\n",
    "                                                                range_0_15, n))\n",
    "print('Percentage range_16_30: {:.2f}% ({:d} out of {:d})'.format(100*range_16_30 / n,\n",
    "                                                                 range_16_30, n))\n",
    "print('Percentage range_31_45: {:.2f}% ({:d} out of {:d})'.format(100*range_31_45 / n,\n",
    "                                                                 range_31_45, n))\n",
    "print('Percentage range_46_60: {:.2f}% ({:d} out of {:d})'.format(100*range_46_60 / n,\n",
    "                                                                 range_46_60, n))\n",
    "print('Percentage range_61_75: {:.2f}% ({:d} out of {:d})'.format(100*range_61_75 / n,\n",
    "                                                                 range_61_75, n))\n",
    "print('Percentage range_over_76: {:.2f}% ({:d} out of {:d})'.format(100*range_over_76 / n,\n",
    "                                                                   range_over_76, n))\n",
    "\n",
    "plt.bar(['range_0_15','range_16_30','range_31_45','range_46_60','range_61_75','range_over_76'],\n",
    "        [range_0_15,range_16_30, range_31_45, range_46_60, range_61_75, range_over_76 ])\n",
    "plt.xticks(rotation = 45)\n",
    "plt.show()"
   ]
  },
  {
   "cell_type": "code",
   "execution_count": null,
   "metadata": {},
   "outputs": [],
   "source": [
    "print('==== Attending to \\'Day_in_month\\' attribute:')\n",
    "\n",
    "w = collections.Counter(df['Day_in_month'])\n",
    "plt.bar(w.keys(), w.values())\n",
    "plt.show()\n",
    "\n",
    "range_1_10 = len(df.query('Day_in_month >=  1 and Day_in_month <=10')['Day_in_month'])\n",
    "range_11_20 = len(df.query('Day_in_month >= 11 and Day_in_month <=20')['Day_in_month'])\n",
    "range_21_31 = len(df.query('Day_in_month >= 21 and Day_in_month <=30')['Day_in_month'])\n",
    "\n",
    "\n",
    "print('Percentage range_1_10: {:.2f}% ({:d} out of {:d})'.format(100*range_1_10 / n,\n",
    "                                                                range_1_10, n))\n",
    "print('Percentage range_11_20: {:.2f}% ({:d} out of {:d})'.format(100*range_11_20 / n,\n",
    "                                                                 range_11_20, n))\n",
    "print('Percentage range_21_31: {:.2f}% ({:d} out of {:d})'.format(100*range_21_31 / n,\n",
    "                                                                 range_21_31, n))\n",
    "\n",
    "\n",
    "plt.bar(['range_1_10','range_11_20','range_21_31'],\n",
    "        [range_1_10,range_11_20, range_21_31])\n",
    "plt.xticks(rotation = 45)\n",
    "plt.show()"
   ]
  },
  {
   "cell_type": "code",
   "execution_count": null,
   "metadata": {},
   "outputs": [],
   "source": [
    "print('==== Attending to \\'Population_with_income_per_unit_of_consumption_below_50perc_of_median\\' attribute:')\n",
    "\n",
    "w = collections.Counter(df['Population_with_income_per_unit_of_consumption_below_50perc_of_median'])\n",
    "plt.bar(w.keys(), w.values())\n",
    "plt.show()\n",
    "df['Population_with_income_per_unit_of_consumption_below_50perc_of_median'].hist(bins=[0,5,10,15,20,25,30,35,40,45,50,55])"
   ]
  },
  {
   "cell_type": "code",
   "execution_count": null,
   "metadata": {},
   "outputs": [],
   "source": [
    "print('==== Attending to \\'Population_with_income_per_unit_of_consumption_below_50perc_of_median\\' attribute:')\n",
    "\n",
    "w = collections.Counter(df['Population_with_income_per_unit_of_consumption_below_50perc_of_median'])\n",
    "plt.bar(w.keys(), w.values())\n",
    "plt.show()\n",
    "df['Population_with_income_per_unit_of_consumption_below_50perc_of_median'].hist(bins=[0,5,10,15,20,25,30,35,40,45,50,55])"
   ]
  },
  {
   "cell_type": "code",
   "execution_count": null,
   "metadata": {},
   "outputs": [],
   "source": [
    "print('==== Attending to \\'Percentage_of_population_aged_65_and_over\\' attribute:')\n",
    "\n",
    "w = collections.Counter(df['Percentage_of_population_aged_65_and_over'])\n",
    "plt.bar(w.keys(), w.values())\n",
    "plt.show()\n",
    "df['Percentage_of_population_aged_65_and_over'].hist(bins=[0,2.5,5,7.5,10,12.5,15,17.5,20,22.5,25,27.5,30,32.5,35,37.5,40,42.5,45])"
   ]
  },
  {
   "cell_type": "code",
   "execution_count": null,
   "metadata": {},
   "outputs": [],
   "source": [
    "print('==== Attending to \\'Percentage_of_population_under_18\\' attribute:')\n",
    "\n",
    "w = collections.Counter(df['Percentage_of_population_under_18'])\n",
    "plt.bar(w.keys(), w.values())\n",
    "plt.show()\n",
    "df['Percentage_of_population_under_18'].hist(bins=[0,2.5,5,7.5,10,12.5,15,17.5,20,22.5,25,27.5,30,32.5,35,37.5,40,42.5,45])"
   ]
  },
  {
   "cell_type": "code",
   "execution_count": null,
   "metadata": {},
   "outputs": [],
   "source": [
    "print('==== Attending to \\'Average_household_size\\' attribute:')\n",
    "\n",
    "w = collections.Counter(df['Average_household_size'])\n",
    "plt.bar(w.keys(), w.values())\n",
    "plt.show()\n",
    "df['Average_household_size'].hist(bins=10)"
   ]
  },
  {
   "cell_type": "code",
   "execution_count": null,
   "metadata": {},
   "outputs": [],
   "source": [
    "print('==== Attending to \\'Num_requests_last_months\\' attribute:')\n",
    "\n",
    "w = collections.Counter(df['Num_requests_last_months'])\n",
    "plt.bar(w.keys(), w.values())\n",
    "plt.show()\n",
    "df['Num_requests_last_months'].hist(bins=[0,2.5,5,7.5,10,12.5,15,17.5,20,22.5,25,27.5,30,32.5,35,37.5,40,42.5,45])"
   ]
  },
  {
   "cell_type": "code",
   "execution_count": null,
   "metadata": {
    "tags": []
   },
   "outputs": [],
   "source": [
    "print('==== Attending to \\'Num_requests_last_months\\' attribute (with >0):')\n",
    "\n",
    "w = collections.Counter(df.query('Num_requests_last_months >0')['Num_requests_last_months'])\n",
    "plt.bar(w.keys(), w.values())\n",
    "plt.show()\n",
    "df.query('Num_requests_last_months >0')['Num_requests_last_months'].hist(bins=25)"
   ]
  }
 ],
 "metadata": {
  "kernelspec": {
   "display_name": "Python 3 (ipykernel)",
   "language": "python",
   "name": "python3"
  },
  "language_info": {
   "codemirror_mode": {
    "name": "ipython",
    "version": 3
   },
   "file_extension": ".py",
   "mimetype": "text/x-python",
   "name": "python",
   "nbconvert_exporter": "python",
   "pygments_lexer": "ipython3",
   "version": "3.11.4"
  }
 },
 "nbformat": 4,
 "nbformat_minor": 4
}
